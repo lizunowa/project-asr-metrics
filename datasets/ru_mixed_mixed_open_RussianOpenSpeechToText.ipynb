{
 "cells": [
  {
   "cell_type": "markdown",
   "metadata": {},
   "source": [
    "Для скачивания запустить ipynb"
   ]
  },
  {
   "cell_type": "code",
   "execution_count": null,
   "metadata": {},
   "outputs": [],
   "source": [
    "import os\n",
    "import hashlib\n",
    "from wget import download\n",
    "\n",
    "\n",
    "url = \"https://azureopendatastorage.blob.core.windows.net/openstt/ru_open_stt_opus/\"\n",
    "\n",
    "with open(\"md5sum.lst\") as f:\n",
    "    for line in f:\n",
    "        md5, file = line.rstrip().split(\" \")\n",
    "        while True:\n",
    "            print(\"\\n\" + file)\n",
    "            response = download(url + \"/\" + file)\n",
    "            md5_file = hashlib.md5(open(file, \"rb\").read()).hexdigest()\n",
    "            if md5 != md5_file:\n",
    "                os.remove(file)\n",
    "                print(\n",
    "                    \"MD5 digest for \"\n",
    "                    + file\n",
    "                    + \" is incorrect, the file will be downloaded again.\"\n",
    "                )\n",
    "            else:\n",
    "                break\n",
    "    print(\"Files was downloaded\")"
   ]
  }
 ],
 "metadata": {
  "kernelspec": {
   "display_name": "Python 3",
   "language": "python",
   "name": "python3"
  },
  "language_info": {
   "codemirror_mode": {
    "name": "ipython",
    "version": 3
   },
   "file_extension": ".py",
   "mimetype": "text/x-python",
   "name": "python",
   "nbconvert_exporter": "python",
   "pygments_lexer": "ipython3",
   "version": "3.7.1"
  }
 },
 "nbformat": 4,
 "nbformat_minor": 2
}
