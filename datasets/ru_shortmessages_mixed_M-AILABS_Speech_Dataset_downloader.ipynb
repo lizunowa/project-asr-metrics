{
 "cells": [
  {
   "cell_type": "code",
   "execution_count": null,
   "metadata": {},
   "outputs": [],
   "source": []
  },
  {
   "cell_type": "markdown",
   "metadata": {},
   "source": [
    "Транскрипция предоставляется для каждого клипа. Клипы различаются по длине от 1 до 20 секунд, а их общая продолжительность приблизительно указана в списке (и в соответствующих файлах info.txt) \n",
    "\n",
    "Данные обучения разделены на женский, мужской и смешанный голоса. В случае смешанного, тренировочные данные содержат смешанные мужские и женские данные.\n",
    "\n",
    "Для каждого голоса есть имя и некоторый info.txt, содержащий информацию об обучающих данных. Каждый каталог обучающих данных содержит два файла: metadata.csv и metadata_mls.json"
   ]
  },
  {
   "cell_type": "code",
   "execution_count": null,
   "metadata": {},
   "outputs": [],
   "source": []
  },
  {
   "cell_type": "markdown",
   "metadata": {},
   "source": [
    "Для имеющейся модели обучения, поддерживающей формат данных LJSpeech для предварительной обработки, можно запустить этот инструмент предварительной обработки в metadata.csv. В другом случае нужно будет выполнить предварительную обработку самостоятельно.\n",
    "\n",
    "все .wav-файлы на данном языке имеют гарантированные уникальные имена, вы можете скопировать их все в один wavs-каталог и сгенерировать для него metadata.csv, используя следующую команду оболочки (Linux + macOS): cat <metadata.csv_1> <metadata.csv_2> ... >> new_metadata.csv"
   ]
  },
  {
   "cell_type": "code",
   "execution_count": null,
   "metadata": {},
   "outputs": [],
   "source": []
  },
  {
   "cell_type": "markdown",
   "metadata": {},
   "source": [
    "**Скачать датасет можно по ссылке:** http://www.caito.de/data/Training/stt_tts/ru_RU.tgz"
   ]
  },
  {
   "cell_type": "code",
   "execution_count": null,
   "metadata": {},
   "outputs": [],
   "source": []
  }
 ],
 "metadata": {
  "kernelspec": {
   "display_name": "Python 3",
   "language": "python",
   "name": "python3"
  },
  "language_info": {
   "codemirror_mode": {
    "name": "ipython",
    "version": 3
   },
   "file_extension": ".py",
   "mimetype": "text/x-python",
   "name": "python",
   "nbconvert_exporter": "python",
   "pygments_lexer": "ipython3",
   "version": "3.7.1"
  }
 },
 "nbformat": 4,
 "nbformat_minor": 2
}
